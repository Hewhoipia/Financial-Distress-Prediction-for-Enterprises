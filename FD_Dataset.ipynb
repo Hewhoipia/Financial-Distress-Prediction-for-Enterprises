{
 "cells": [
  {
   "cell_type": "markdown",
   "metadata": {},
   "source": [
    "# Financial Statements Dataset"
   ]
  },
  {
   "cell_type": "markdown",
   "metadata": {},
   "source": [
    "## Balance sheet & Income Statement"
   ]
  },
  {
   "cell_type": "code",
   "execution_count": 1,
   "metadata": {},
   "outputs": [],
   "source": [
    "import pandas as pd\n",
    "import re\n",
    "import numpy as np"
   ]
  },
  {
   "cell_type": "code",
   "execution_count": 2,
   "metadata": {},
   "outputs": [],
   "source": [
    "file_path = 'content/FS_Dataset.xlsx'\n",
    "df = pd.read_excel(file_path, sheet_name='Tổng hợp')"
   ]
  },
  {
   "cell_type": "code",
   "execution_count": 16,
   "metadata": {},
   "outputs": [],
   "source": [
    "cols = df.columns[6:]\n",
    "groups = {}\n",
    "trans_groups = {}\n",
    "pattern = re.compile(r\"(.*?)\\n(.*?)\\nNăm: (\\d{4})\\nĐơn vị: (.+)\", re.DOTALL)\n",
    "\n",
    "for col in cols:\n",
    "    match = pattern.match(col)\n",
    "    if match:\n",
    "        attribute, status, year, unit = match.groups()\n",
    "        if year not in groups:\n",
    "            groups[year] = []\n",
    "        groups[year].append(col)\n",
    "        if year not in trans_groups:\n",
    "            trans_groups[year] = []\n",
    "        trans_groups[year].append(attribute + f'\\nUnit: {unit}')\n",
    "        \n",
    "groups.pop('2024', None)\n",
    "trans_cols = trans_groups['2010']"
   ]
  },
  {
   "cell_type": "code",
   "execution_count": null,
   "metadata": {},
   "outputs": [],
   "source": [
    "# with pd.ExcelWriter('content/report_data/FDP_data.xlsx', engine=\"openpyxl\", mode=\"w\") as writer:\n",
    "#     # \"w\" ensures a fresh file\n",
    "#     df_info = pd.DataFrame(df[df.columns[1:6]])\n",
    "#     df_info.to_excel(writer, sheet_name=\"Info\", index=False)\n",
    "#     for year, cols in groups.items():\n",
    "#         fs_df = df[['Mã'] + cols].copy()\n",
    "#         fs_df['Year'] = year\n",
    "#         fs_df = fs_df[['Mã', 'Year'] + cols] \n",
    "#         fs_df.to_excel(writer, sheet_name=str(year), index=False)\n",
    "    \n",
    "    "
   ]
  },
  {
   "cell_type": "markdown",
   "metadata": {},
   "source": [
    "## Performance Measurement"
   ]
  },
  {
   "cell_type": "markdown",
   "metadata": {},
   "source": []
  }
 ],
 "metadata": {
  "kernelspec": {
   "display_name": "Python 3",
   "language": "python",
   "name": "python3"
  },
  "language_info": {
   "codemirror_mode": {
    "name": "ipython",
    "version": 3
   },
   "file_extension": ".py",
   "mimetype": "text/x-python",
   "name": "python",
   "nbconvert_exporter": "python",
   "pygments_lexer": "ipython3",
   "version": "3.12.2"
  }
 },
 "nbformat": 4,
 "nbformat_minor": 2
}
