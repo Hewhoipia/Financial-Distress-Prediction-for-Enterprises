{
 "cells": [
  {
   "cell_type": "code",
   "execution_count": 1,
   "metadata": {
    "id": "RaZ5cB970oqJ"
   },
   "outputs": [],
   "source": [
    "import pandas as pd\n",
    "import re\n",
    "import numpy as np\n",
    "\n",
    "# Load the Excel file\n",
    "file_path = 'content/FS_Dataset.xlsx'\n"
   ]
  },
  {
   "cell_type": "code",
   "execution_count": 2,
   "metadata": {
    "colab": {
     "base_uri": "https://localhost:8080/"
    },
    "id": "a7ksCPlf4hJT",
    "outputId": "6b25eefb-d1b7-49cc-fc55-d722c9c8a50e"
   },
   "outputs": [
    {
     "name": "stdout",
     "output_type": "stream",
     "text": [
      "['Tổng hợp', 'Sheet1', 'Sheet8', 'Lý thuyết', 'Phân ngành', 'Giá', 'Tỷ suất cổ tức', 'Chỉ số', 'Chỉ số 2', 'BCTC 1', 'BCTC 2', 'BCTC 3', 'BCTC 4']\n",
      "13\n"
     ]
    }
   ],
   "source": [
    "# prompt: count and print sheets in the file\n",
    "\n",
    "xls = pd.ExcelFile(file_path)\n",
    "print(xls.sheet_names)\n",
    "print(len(xls.sheet_names))\n"
   ]
  },
  {
   "cell_type": "code",
   "execution_count": 3,
   "metadata": {
    "colab": {
     "base_uri": "https://localhost:8080/"
    },
    "id": "PPR4PaGb23U4",
    "outputId": "c33e3a23-1edf-4518-dfea-ac9be3aa6ca9"
   },
   "outputs": [
    {
     "name": "stdout",
     "output_type": "stream",
     "text": [
      "Number of rows: 1665\n",
      "Number of columns: 847\n"
     ]
    }
   ],
   "source": [
    "sheet_name = 'Tổng hợp'\n",
    "df = pd.read_excel(file_path, sheet_name=sheet_name)\n",
    "\n",
    "df.replace('nan', np.nan, inplace=True)\n",
    "rows, cols = df.shape\n",
    "\n",
    "print(f\"Number of rows: {rows}\")\n",
    "print(f\"Number of columns: {cols}\")\n"
   ]
  },
  {
   "cell_type": "code",
   "execution_count": 4,
   "metadata": {},
   "outputs": [],
   "source": [
    "# df.head()"
   ]
  },
  {
   "cell_type": "code",
   "execution_count": 5,
   "metadata": {
    "colab": {
     "base_uri": "https://localhost:8080/"
    },
    "id": "8qmFG-cDB9a_",
    "outputId": "6c9da467-0c12-4d20-f130-9a71f7d943fa"
   },
   "outputs": [],
   "source": [
    "# #Count unique value of cols 0-6\n",
    "# for col in df.columns[:6]:\n",
    "#     counts = df[col].value_counts(dropna=False)\n",
    "#     print(counts)"
   ]
  },
  {
   "cell_type": "code",
   "execution_count": 6,
   "metadata": {
    "colab": {
     "base_uri": "https://localhost:8080/"
    },
    "id": "Lw0L-2a53Q6x",
    "outputId": "6ca79ac2-8d7f-4476-ef4b-9a95ae4f2bc3"
   },
   "outputs": [],
   "source": [
    "#Remain cols\n",
    "cols = df.columns[6:]\n",
    "\n",
    "groups = {}\n",
    "trans_groups = {}\n",
    "\n",
    "pattern = re.compile(r\"(.*?)\\n(.*?)\\n(.*?)(\\d{4})\\n(.*?)\", re.DOTALL)\n",
    "\n",
    "for col in cols:\n",
    "    match = pattern.match(col)\n",
    "    if match:\n",
    "        attribute, status, quarter, year, current = match.groups()\n",
    "        if year not in groups:\n",
    "            groups[year] = []\n",
    "        groups[year].append(col)\n",
    "        if year not in trans_groups:\n",
    "            trans_groups[year] = []\n",
    "        trans_groups[year].append(attribute)\n",
    "        \n",
    "trans_cols = trans_groups['2010']"
   ]
  },
  {
   "cell_type": "code",
   "execution_count": 7,
   "metadata": {},
   "outputs": [
    {
     "name": "stdout",
     "output_type": "stream",
     "text": [
      "In total, there are 14 groups\n",
      "----------\n",
      "Attribute: 0: I. TÀI SẢN NGẮN HẠN\n",
      "----------\n",
      "Attribute: 1: 1. Tiền và tương đương tiền \n",
      "----------\n",
      "Attribute: 2: 4.1. Hàng tồn kho\n",
      "----------\n",
      "Attribute: 3: 3. Các khoản phải thu ngắn hạn\n",
      "----------\n",
      "Attribute: 4: 3.1. Phải thu ngắn hạn của khách hàng\n",
      "----------\n",
      "Attribute: 5: II. TÀI SẢN DÀI HẠN\n",
      "----------\n",
      "Attribute: 6: 2. Tài sản cố định\n",
      "----------\n",
      "Attribute: 7: 2. Khấu hao TSCĐ và BĐSĐT (GT)\n",
      "----------\n",
      "Attribute: 8: 1. Phải thu dài hạn\n",
      "----------\n",
      "Attribute: 9: A. TỔNG CỘNG TÀI SẢN\n",
      "----------\n",
      "Attribute: 10: I. NỢ PHẢI TRẢ\n",
      "----------\n",
      "Attribute: 11: 1. Nợ ngắn hạn\n",
      "----------\n",
      "Attribute: 12: 1.1. Phải trả người bán ngắn hạn\n",
      "----------\n",
      "Attribute: 13: 2. Nợ dài hạn\n",
      "----------\n",
      "Attribute: 14: II. VỐN CHỦ SỞ HỮU\n",
      "----------\n",
      "Attribute: 15: 1.12. Lãi chưa phân phối\n",
      "----------\n",
      "Attribute: 16: B. TỔNG CỘNG NGUỒN VỐN\n",
      "----------\n",
      "Attribute: 17: 1. Doanh thu bán hàng và cung cấp dịch vụ\n",
      "----------\n",
      "Attribute: 18: 3. Doanh thu thuần\n",
      "----------\n",
      "Attribute: 19: 4. Giá vốn hàng bán\n",
      "----------\n",
      "Attribute: 20: 5. Lợi nhuận gộp về bán hàng và cung cấp dịch vụ\n",
      "----------\n",
      "Attribute: 21: 7. Chi phí tài chính\n",
      "----------\n",
      "Attribute: 22: 7.1. Trong đó: Chi phí lãi vay\n",
      "----------\n",
      "Attribute: 23: 9. Chi phí bán hàng\n",
      "----------\n",
      "Attribute: 24: 10. Chi phí quản lý doanh  nghiệp\n",
      "----------\n",
      "Attribute: 25: 11. Lợi nhuận thuần từ hoạt động kinh doanh\n",
      "----------\n",
      "Attribute: 26: 16. Tổng lợi nhuận kế toán trước thuế\n",
      "----------\n",
      "Attribute: 27: 17. Chi phí thuế thu nhập doanh nghiệp\n",
      "----------\n",
      "Attribute: 28: 18. Lợi nhuận sau thuế thu nhập doanh nghiệp\n",
      "----------\n",
      "Attribute: 29: Vốn hóa thị trường\n",
      "----------\n",
      "Attribute: 30: Số CP lưu hành hiện thời\n",
      "----------\n",
      "Attribute: 31: Giá trị doanh nghiệp (EV)\n",
      "----------\n",
      "Attribute: 32: Tỷ suất thanh toán hiện thời\n",
      "----------\n",
      "Attribute: 33: Tỷ suất thanh toán nhanh\n",
      "----------\n",
      "Attribute: 34: Tỷ suất thanh toán tiền mặt\n",
      "----------\n",
      "Attribute: 35: Hệ số quay vòng phải thu khách hàng\n",
      "----------\n",
      "Attribute: 36: Hệ số quay vòng hàng tồn kho\n",
      "----------\n",
      "Attribute: 37: Hệ số quay vòng phải trả nhà cung cấp\n",
      "----------\n",
      "Attribute: 38: Hệ số vòng quay tài sản \n",
      "----------\n",
      "Attribute: 39: ROA %\n",
      "----------\n",
      "Attribute: 40: ROE %\n",
      "----------\n",
      "Attribute: 41: ROIC %\n",
      "----------\n",
      "Attribute: 42: Tỷ suất lợi nhuận gộp \n",
      "----------\n",
      "Attribute: 43: Tỷ suất lợi nhuận thuần \n",
      "----------\n",
      "Attribute: 44: Tỷ suất EBIT \n",
      "----------\n",
      "Attribute: 45: EPS cơ bản\n",
      "----------\n",
      "Attribute: 46: P/E cơ bản\n",
      "----------\n",
      "Attribute: 47: P/B\n",
      "----------\n",
      "Attribute: 48: Giá trị DN/ EBITDA \n",
      "----------\n",
      "Attribute: 49: Tỷ suất thanh toán cổ tức \n",
      "----------\n",
      "Attribute: 50: Tổng vốn vay/ VSCH\n",
      "----------\n",
      "Attribute: 51: Tăng trưởng đầu tư tài sản cố định (CAPEX) (YoY) (Quý, Năm)\n",
      "----------\n",
      "Attribute: 52: Tăng tưởng doanh thu thuần 3 năm - CAGR (Y)\n",
      "----------\n",
      "Attribute: 53: Tăng trưởng lợi nhuận trước thuế 3 năm - CAGR (Y)\n",
      "----------\n",
      "Attribute: 54: Tăng trưởng lợi nhuận thuần 3 năm - CAGR (Y)\n"
     ]
    }
   ],
   "source": [
    "#Delete year \"2024\"\n",
    "groups.pop('2024', None)\n",
    "trans_groups.pop('2024', None)\n",
    "\n",
    "print(\"In total, there are\" ,len(trans_groups), \"groups\")\n",
    "for idx,col in enumerate(trans_cols,start=0):\n",
    "  print('-'*10)\n",
    "  print(f\"Attribute: {idx}: {col}\")"
   ]
  },
  {
   "cell_type": "code",
   "execution_count": 8,
   "metadata": {},
   "outputs": [
    {
     "name": "stderr",
     "output_type": "stream",
     "text": [
      "C:\\Users\\Jeff\\AppData\\Local\\Temp\\ipykernel_23832\\1077537951.py:6: FutureWarning: The behavior of DataFrame concatenation with empty or all-NA entries is deprecated. In a future version, this will no longer exclude empty or all-NA columns when determining the result dtypes. To retain the old behavior, exclude the relevant entries before the concat operation.\n",
      "  trans_df = pd.concat([trans_df, concat_df], axis=0, ignore_index=True)\n"
     ]
    }
   ],
   "source": [
    "trans_df = pd.DataFrame(columns=list(df.columns[1:6]) + trans_cols)\n",
    "for year, cols in groups.items():\n",
    "    new_df = df[cols]\n",
    "    new_df.columns = trans_cols\n",
    "    concat_df = pd.concat([df[df.columns[1:6]], new_df], axis=1)\n",
    "    trans_df = pd.concat([trans_df, concat_df], axis=0, ignore_index=True)\n",
    "    "
   ]
  },
  {
   "cell_type": "code",
   "execution_count": 9,
   "metadata": {},
   "outputs": [],
   "source": [
    "# trans_df"
   ]
  },
  {
   "cell_type": "markdown",
   "metadata": {},
   "source": [
    "# Research Methodology"
   ]
  },
  {
   "cell_type": "markdown",
   "metadata": {},
   "source": [
    "## Variable measurement"
   ]
  },
  {
   "cell_type": "markdown",
   "metadata": {},
   "source": [
    "### Z-index of Altman (1968)"
   ]
  },
  {
   "cell_type": "code",
   "execution_count": 11,
   "metadata": {},
   "outputs": [],
   "source": [
    "# X1 = Current assets minus current liabilities divided by total assets\n",
    "X1 = trans_df.apply(\n",
    "    lambda row : (row[trans_cols[0]] - row[trans_cols[11]]) / row[trans_cols[9]]\n",
    "    if pd.notna(row[trans_cols[0]]) and pd.notna(row[trans_cols[11]]) and pd.notna(row[trans_cols[9]])\n",
    "    and row[trans_cols[9]] != 0\n",
    "    else np.nan, axis=1\n",
    ")\n",
    "\n",
    "# X2 = Retained earnings divided by total assets\n",
    "X2 = trans_df.apply(\n",
    "    lambda row : row[trans_cols[15]] / row[trans_cols[9]]\n",
    "    if pd.notna(row[trans_cols[15]]) and pd.notna(row[trans_cols[9]])\n",
    "    and row[trans_cols[9]] != 0\n",
    "    else np.nan, axis=1\n",
    ")\n",
    "\n",
    "# X3 = Profit before tax and interests (EBIT) divided by total assets\n",
    "X3 = trans_df.apply(\n",
    "    lambda row : row[trans_cols[44]] / row[trans_cols[9]]\n",
    "    if pd.notna(row[trans_cols[44]]) and pd.notna(row[trans_cols[9]])\n",
    "    and row[trans_cols[9]] != 0\n",
    "    else np.nan, axis=1\n",
    ")\n",
    "\n",
    "# X4 = Book value of equity divided by total debt\n",
    "X4 = trans_df.apply(\n",
    "    lambda row : row[trans_cols[29]] / row[trans_cols[10]]\n",
    "    if pd.notna(row[trans_cols[29]]) and pd.notna(row[trans_cols[10]])\n",
    "    and row[trans_cols[10]] != 0\n",
    "    else np.nan, axis=1\n",
    ")\n",
    "\n",
    "# X5 = Revenue divided by total assets\n",
    "X5 = trans_df.apply(\n",
    "    lambda row : row[trans_cols[38]]\n",
    "    if pd.notna(row[trans_cols[38]])\n",
    "    else np.nan, axis=1\n",
    ")"
   ]
  },
  {
   "cell_type": "code",
   "execution_count": 18,
   "metadata": {},
   "outputs": [],
   "source": [
    "Z_1983 = 0.717*X1 + 0.847*X2 + 3.107*X3 + 0.420*X4 + 0.998*X5"
   ]
  },
  {
   "cell_type": "code",
   "execution_count": null,
   "metadata": {},
   "outputs": [],
   "source": [
    "result = Z_1983.apply(\n",
    "    lambda row: 2 if row > 2.6 else # non-bankrupt firms\n",
    "                1 if 1.1 <= row <= 2.6 else # gray area\n",
    "                0 if row < 1.1 else # high risk of bankruptcy\n",
    "                np.nan\n",
    ")"
   ]
  },
  {
   "cell_type": "code",
   "execution_count": null,
   "metadata": {},
   "outputs": [],
   "source": [
    "model_1 = pd.DataFrame(trans_df[trans_df.columns[:5]])\n",
    "model_1 ['label'] = result\n",
    "model_1.set_index(model_1.columns[:5].tolist(), inplace=True)"
   ]
  },
  {
   "cell_type": "code",
   "execution_count": null,
   "metadata": {},
   "outputs": [],
   "source": [
    "model_1"
   ]
  },
  {
   "cell_type": "markdown",
   "metadata": {},
   "source": [
    "# Appendices"
   ]
  },
  {
   "cell_type": "markdown",
   "metadata": {},
   "source": [
    "## Appendix A"
   ]
  },
  {
   "cell_type": "code",
   "execution_count": 13,
   "metadata": {},
   "outputs": [],
   "source": [
    "# atr = pd.DataFrame()\n",
    "# # Index group: Solvency\n",
    "\n",
    "# # Atr X1: Current ratio: Tỷ số thanh khoản hiện thời\n",
    "# # Measurement: Current assets/Short-term liabilities: Tài sản ngắn hạn / Nợ ngắn hạn\n",
    "# for year, cols in groups.items():\n",
    "#     col1, col2 = cols[0], cols[11]\n",
    "#     result_col = df.apply(\n",
    "#         lambda row: row[col1] / row[col2] if pd.notna(row[col1]) and pd.notna(row[col2])\n",
    "#         and row[col2] != 0 else np.nan, axis=1\n",
    "#     )\n",
    "#     col_name = f\"Current ratio: X1: {year}\"\n",
    "#     atr[col_name] = result_col\n",
    "\n",
    "# # Atr X2: Quick ratio: Tỷ số thanh toán nhanh\n",
    "# # Measurement: (Current assets – inventories)/Current liabilities: (Tài sản ngắn hạn – hàng tồn kho) / Nợ ngắn hạn\n",
    "# for year, cols in groups.items():\n",
    "#     col1, col2, col3 = cols[0], cols[2], cols[11]\n",
    "#     result_col = df.apply(\n",
    "#         lambda row: (row[col1] - row[col2])/row[col3] if pd.notna(row[col1]) and pd.notna(row[col2])\n",
    "#         and pd.notna(row[col3]) and row[col3] != 0 else np.nan, axis=1\n",
    "#     )\n",
    "#     col_name = f\"Quick ratio: X2: {year}\"\n",
    "#     atr[col_name] = result_col\n",
    "    \n",
    "# # Atr X3: Receivables turnover: Vòng quay khoản phải thu\n",
    "# # Measurement: Net revenue/Receivables\n",
    "# for year, cols in groups.items():\n",
    "#     col1 = cols[35]\n",
    "#     result_col = df.apply(\n",
    "#         lambda row: row[col1] if pd.notna(row[col1]) else np.nan, axis=1\n",
    "#     )\n",
    "#     col_name = f\"Receivables turnover: X3: {year}\"\n",
    "#     atr[col_name] = result_col\n",
    "    \n",
    "# # Atr X4: Ratio of operating cash flow to short-term debt\n",
    "# # Measurement: Operating cash flow/Short-term debt\n",
    "# for year, cols in groups.items():\n",
    "#     col1 = cols[35]\n",
    "#     result_col = df.apply(\n",
    "#         lambda row: row[col1] if pd.notna(row[col1]) else np.nan, axis=1\n",
    "#     )\n",
    "#     col_name = f\"Receivables turnover: X3: {year}\"\n",
    "#     atr[col_name] = result_col"
   ]
  }
 ],
 "metadata": {
  "colab": {
   "provenance": []
  },
  "kernelspec": {
   "display_name": "Python 3",
   "name": "python3"
  },
  "language_info": {
   "codemirror_mode": {
    "name": "ipython",
    "version": 3
   },
   "file_extension": ".py",
   "mimetype": "text/x-python",
   "name": "python",
   "nbconvert_exporter": "python",
   "pygments_lexer": "ipython3",
   "version": "3.12.2"
  }
 },
 "nbformat": 4,
 "nbformat_minor": 0
}
